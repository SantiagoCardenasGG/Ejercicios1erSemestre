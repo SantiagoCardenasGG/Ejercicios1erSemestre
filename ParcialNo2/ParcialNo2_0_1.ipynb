{
  "nbformat": 4,
  "nbformat_minor": 0,
  "metadata": {
    "colab": {
      "provenance": []
    },
    "kernelspec": {
      "name": "python3",
      "display_name": "Python 3"
    },
    "language_info": {
      "name": "python"
    }
  },
  "cells": [
    {
      "cell_type": "code",
      "execution_count": null,
      "metadata": {
        "id": "SqQohXNGVRQg"
      },
      "outputs": [],
      "source": [
        "#Parcial No. 2\n",
        "#Autores: Jhair Sebastian Torres y Santiago Cárdenas\n",
        "#Grupo 2\n",
        "#Versión 1.0.1\n",
        "#Fecha 01/11/2022"
      ]
    },
    {
      "cell_type": "markdown",
      "source": [
        "PUNTO NO. 1"
      ],
      "metadata": {
        "id": "k3lWpPPfVay-"
      }
    },
    {
      "cell_type": "code",
      "source": [
        "#PUNTO 8 FUNCIONES"
      ],
      "metadata": {
        "id": "QpkvoO5PVdd0"
      },
      "execution_count": null,
      "outputs": []
    },
    {
      "cell_type": "code",
      "source": [
        "# FUNCION T/T\n",
        "\n",
        "def fibonacci_iter(n):\n",
        "    a=1\n",
        "    b=1\n",
        "    if n==1:\n",
        "        print('0')\n",
        "    elif n==2:\n",
        "        print('0','1')\n",
        "    else:\n",
        "        print('0')\n",
        "        print(a)\n",
        "        print(b)\n",
        "        for i in range(n-3):\n",
        "            total = a + b\n",
        "            b=a\n",
        "            a= total\n",
        "            print(total)\n",
        "fibonacci_iter(8)"
      ],
      "metadata": {
        "id": "oOZhlcNWVgJV"
      },
      "execution_count": null,
      "outputs": []
    },
    {
      "cell_type": "code",
      "source": [
        "#FUNCÓN T/F\n",
        "\n",
        "Valor = int(input(\"dame un numero: \"))\n",
        "def fibonacci(n):\n",
        "  a = 1\n",
        "  b = 1\n",
        "  for i in range(n-3):\n",
        "    c = a + b\n",
        "    b=a\n",
        "    a = c\n",
        "    if Valor == a:\n",
        "      print(\"1\")\n",
        "  else:\n",
        "    print('0')\n",
        "        \n",
        "fibonacci(30)"
      ],
      "metadata": {
        "id": "R3zyMyCdVgxb"
      },
      "execution_count": null,
      "outputs": []
    },
    {
      "cell_type": "code",
      "source": [
        "#FUNCION F/T\n",
        "\n",
        "Valor = int(input(\"dame un numero: \"))\n",
        "def Fibonacci():\n",
        "  n=30\n",
        "  a = 1\n",
        "  b = 1\n",
        "  for i in range(n-3):\n",
        "    c = a + b\n",
        "    b=a\n",
        "    a = c\n",
        "    if Valor == a:\n",
        "      print(\"1\")\n",
        "  else:\n",
        "    print('0')\n",
        "        \n",
        "Fibonacci()"
      ],
      "metadata": {
        "id": "-s5ZP7RdVlrf"
      },
      "execution_count": null,
      "outputs": []
    },
    {
      "cell_type": "code",
      "source": [
        "#FUNCIÓN F/F\n",
        "\n",
        "Valor = int(input(\"dame un numero: \"))\n",
        "def Fibonacci():\n",
        "  n=30\n",
        "  a = 1\n",
        "  b = 1\n",
        "  for i in range(n-3):\n",
        "    c = a + b\n",
        "    b=a\n",
        "    a = c\n",
        "    if Valor == a:\n",
        "      print(\"1\")\n",
        "  else:\n",
        "    print('0')\n",
        "    \n",
        "  return\n",
        "        \n",
        "Fibonacci()"
      ],
      "metadata": {
        "id": "xt1dGunYVnkA"
      },
      "execution_count": null,
      "outputs": []
    },
    {
      "cell_type": "code",
      "source": [
        "#PUNTO 28 FUNCIONES"
      ],
      "metadata": {
        "id": "82zRK1XwVp9i"
      },
      "execution_count": null,
      "outputs": []
    },
    {
      "cell_type": "code",
      "source": [
        "#FUNCIÓN T/T\n",
        "\n",
        "def prim(ent):\n",
        "    for n in range(2, ent):\n",
        "        if ent % n == 0:\n",
        "            return False\n",
        "    return True\n",
        "\n",
        "list_vec=[]\n",
        "for i in range(10):\n",
        "  list_vec.append(int(input('Ingrese el numero: ')))\n",
        "\n",
        "def lista_primos(list_vec):\n",
        "  prim=[]\n",
        "  for i in list_vec:\n",
        "    if prim(i):\n",
        "      prim.append(i)\n",
        "\n",
        "  return prim\n",
        "\n",
        "print('Los numeros primos del vector son:  ', lista_primos(list_vec))"
      ],
      "metadata": {
        "id": "NLJgImgnVrqO"
      },
      "execution_count": null,
      "outputs": []
    },
    {
      "cell_type": "code",
      "source": [
        "#FUNCIÓN T/F\n",
        "\n",
        "def prim(ent):\n",
        "    for n in range(2, ent):\n",
        "        if ent % n == 0:\n",
        "            return False\n",
        "    return True\n",
        "\n",
        "list_vec=[]\n",
        "for i in range(10):\n",
        "  list_vec.append(int(input('Ingrese el numero: ')))\n",
        "\n",
        "def lista_prims(list_vec):\n",
        "  prim=[]\n",
        "  for i in list_vec:\n",
        "    if prim(i):\n",
        "      prim.append(i)\n",
        "\n",
        "  print('Los numeros prims son: ',prim)\n",
        "\n",
        "lista_prims(list_vec)"
      ],
      "metadata": {
        "id": "nL9Hwl4YVvcF"
      },
      "execution_count": null,
      "outputs": []
    },
    {
      "cell_type": "code",
      "source": [
        "#FUNCIÓN F/T\n",
        "\n",
        "def prim(ent):\n",
        "    for n in range(2, ent):\n",
        "        if ent % n == 0:\n",
        "            return False\n",
        "    return True\n",
        "\n",
        "def list_prim():\n",
        "  prim=[]\n",
        "  for i in lista_vector:\n",
        "    if prim(i):\n",
        "      prim.append(i)\n",
        "  \n",
        "  return prim\n",
        "\n",
        "lista_vector=[2,3,7,13,11,83,31,23,24,6]\n",
        "\n",
        "list_prim()"
      ],
      "metadata": {
        "id": "-rQkT7JPVwX1"
      },
      "execution_count": null,
      "outputs": []
    },
    {
      "cell_type": "code",
      "source": [
        "#FUNCIÓN F/F\n",
        "\n",
        "def primo(entero):\n",
        "    for n in range(2, entero):\n",
        "        if entero % n == 0:\n",
        "            return False\n",
        "    return True\n",
        "\n",
        "\n",
        "def lista_primos():\n",
        "  prim=[]\n",
        "  for i in lista_vector:\n",
        "    if primo(i):\n",
        "      prim.append(i)\n",
        "  print(prim)\n",
        "\n",
        "lista_vector=[2,3,7,13,11,83,31,23,24,6]\n",
        "\n",
        "\n",
        "lista_primos()"
      ],
      "metadata": {
        "id": "OrsuZNq1V2D9"
      },
      "execution_count": null,
      "outputs": []
    }
  ]
}