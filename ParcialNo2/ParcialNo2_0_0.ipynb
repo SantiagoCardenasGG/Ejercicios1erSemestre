{
  "nbformat": 4,
  "nbformat_minor": 0,
  "metadata": {
    "colab": {
      "provenance": [],
      "collapsed_sections": []
    },
    "kernelspec": {
      "name": "python3",
      "display_name": "Python 3"
    },
    "language_info": {
      "name": "python"
    }
  },
  "cells": [
    {
      "cell_type": "code",
      "source": [
        "#Parcial No. 2\n",
        "#Autores: Jhair Sebastian Torres y Santiago Cárdenas\n",
        "#Grupo 2\n",
        "#Versión 1.0\n",
        "#Fecha 01/11/2022"
      ],
      "metadata": {
        "id": "QiHCncvIIAPO"
      },
      "execution_count": 77,
      "outputs": []
    },
    {
      "cell_type": "markdown",
      "source": [
        "PUNTO NO. 1"
      ],
      "metadata": {
        "id": "J4SvS8MECofM"
      }
    },
    {
      "cell_type": "code",
      "execution_count": 78,
      "metadata": {
        "colab": {
          "base_uri": "https://localhost:8080/",
          "height": 74
        },
        "id": "JPWnoOCeawEM",
        "outputId": "2920e0cb-8f4a-4e6f-d112-7be654aa9efb"
      },
      "outputs": [
        {
          "output_type": "display_data",
          "data": {
            "text/plain": [
              "<IPython.core.display.HTML object>"
            ],
            "text/html": [
              "\n",
              "     <input type=\"file\" id=\"files-c8d4e046-c441-4b93-a306-e7b00ec0f39a\" name=\"files[]\" multiple disabled\n",
              "        style=\"border:none\" />\n",
              "     <output id=\"result-c8d4e046-c441-4b93-a306-e7b00ec0f39a\">\n",
              "      Upload widget is only available when the cell has been executed in the\n",
              "      current browser session. Please rerun this cell to enable.\n",
              "      </output>\n",
              "      <script>// Copyright 2017 Google LLC\n",
              "//\n",
              "// Licensed under the Apache License, Version 2.0 (the \"License\");\n",
              "// you may not use this file except in compliance with the License.\n",
              "// You may obtain a copy of the License at\n",
              "//\n",
              "//      http://www.apache.org/licenses/LICENSE-2.0\n",
              "//\n",
              "// Unless required by applicable law or agreed to in writing, software\n",
              "// distributed under the License is distributed on an \"AS IS\" BASIS,\n",
              "// WITHOUT WARRANTIES OR CONDITIONS OF ANY KIND, either express or implied.\n",
              "// See the License for the specific language governing permissions and\n",
              "// limitations under the License.\n",
              "\n",
              "/**\n",
              " * @fileoverview Helpers for google.colab Python module.\n",
              " */\n",
              "(function(scope) {\n",
              "function span(text, styleAttributes = {}) {\n",
              "  const element = document.createElement('span');\n",
              "  element.textContent = text;\n",
              "  for (const key of Object.keys(styleAttributes)) {\n",
              "    element.style[key] = styleAttributes[key];\n",
              "  }\n",
              "  return element;\n",
              "}\n",
              "\n",
              "// Max number of bytes which will be uploaded at a time.\n",
              "const MAX_PAYLOAD_SIZE = 100 * 1024;\n",
              "\n",
              "function _uploadFiles(inputId, outputId) {\n",
              "  const steps = uploadFilesStep(inputId, outputId);\n",
              "  const outputElement = document.getElementById(outputId);\n",
              "  // Cache steps on the outputElement to make it available for the next call\n",
              "  // to uploadFilesContinue from Python.\n",
              "  outputElement.steps = steps;\n",
              "\n",
              "  return _uploadFilesContinue(outputId);\n",
              "}\n",
              "\n",
              "// This is roughly an async generator (not supported in the browser yet),\n",
              "// where there are multiple asynchronous steps and the Python side is going\n",
              "// to poll for completion of each step.\n",
              "// This uses a Promise to block the python side on completion of each step,\n",
              "// then passes the result of the previous step as the input to the next step.\n",
              "function _uploadFilesContinue(outputId) {\n",
              "  const outputElement = document.getElementById(outputId);\n",
              "  const steps = outputElement.steps;\n",
              "\n",
              "  const next = steps.next(outputElement.lastPromiseValue);\n",
              "  return Promise.resolve(next.value.promise).then((value) => {\n",
              "    // Cache the last promise value to make it available to the next\n",
              "    // step of the generator.\n",
              "    outputElement.lastPromiseValue = value;\n",
              "    return next.value.response;\n",
              "  });\n",
              "}\n",
              "\n",
              "/**\n",
              " * Generator function which is called between each async step of the upload\n",
              " * process.\n",
              " * @param {string} inputId Element ID of the input file picker element.\n",
              " * @param {string} outputId Element ID of the output display.\n",
              " * @return {!Iterable<!Object>} Iterable of next steps.\n",
              " */\n",
              "function* uploadFilesStep(inputId, outputId) {\n",
              "  const inputElement = document.getElementById(inputId);\n",
              "  inputElement.disabled = false;\n",
              "\n",
              "  const outputElement = document.getElementById(outputId);\n",
              "  outputElement.innerHTML = '';\n",
              "\n",
              "  const pickedPromise = new Promise((resolve) => {\n",
              "    inputElement.addEventListener('change', (e) => {\n",
              "      resolve(e.target.files);\n",
              "    });\n",
              "  });\n",
              "\n",
              "  const cancel = document.createElement('button');\n",
              "  inputElement.parentElement.appendChild(cancel);\n",
              "  cancel.textContent = 'Cancel upload';\n",
              "  const cancelPromise = new Promise((resolve) => {\n",
              "    cancel.onclick = () => {\n",
              "      resolve(null);\n",
              "    };\n",
              "  });\n",
              "\n",
              "  // Wait for the user to pick the files.\n",
              "  const files = yield {\n",
              "    promise: Promise.race([pickedPromise, cancelPromise]),\n",
              "    response: {\n",
              "      action: 'starting',\n",
              "    }\n",
              "  };\n",
              "\n",
              "  cancel.remove();\n",
              "\n",
              "  // Disable the input element since further picks are not allowed.\n",
              "  inputElement.disabled = true;\n",
              "\n",
              "  if (!files) {\n",
              "    return {\n",
              "      response: {\n",
              "        action: 'complete',\n",
              "      }\n",
              "    };\n",
              "  }\n",
              "\n",
              "  for (const file of files) {\n",
              "    const li = document.createElement('li');\n",
              "    li.append(span(file.name, {fontWeight: 'bold'}));\n",
              "    li.append(span(\n",
              "        `(${file.type || 'n/a'}) - ${file.size} bytes, ` +\n",
              "        `last modified: ${\n",
              "            file.lastModifiedDate ? file.lastModifiedDate.toLocaleDateString() :\n",
              "                                    'n/a'} - `));\n",
              "    const percent = span('0% done');\n",
              "    li.appendChild(percent);\n",
              "\n",
              "    outputElement.appendChild(li);\n",
              "\n",
              "    const fileDataPromise = new Promise((resolve) => {\n",
              "      const reader = new FileReader();\n",
              "      reader.onload = (e) => {\n",
              "        resolve(e.target.result);\n",
              "      };\n",
              "      reader.readAsArrayBuffer(file);\n",
              "    });\n",
              "    // Wait for the data to be ready.\n",
              "    let fileData = yield {\n",
              "      promise: fileDataPromise,\n",
              "      response: {\n",
              "        action: 'continue',\n",
              "      }\n",
              "    };\n",
              "\n",
              "    // Use a chunked sending to avoid message size limits. See b/62115660.\n",
              "    let position = 0;\n",
              "    do {\n",
              "      const length = Math.min(fileData.byteLength - position, MAX_PAYLOAD_SIZE);\n",
              "      const chunk = new Uint8Array(fileData, position, length);\n",
              "      position += length;\n",
              "\n",
              "      const base64 = btoa(String.fromCharCode.apply(null, chunk));\n",
              "      yield {\n",
              "        response: {\n",
              "          action: 'append',\n",
              "          file: file.name,\n",
              "          data: base64,\n",
              "        },\n",
              "      };\n",
              "\n",
              "      let percentDone = fileData.byteLength === 0 ?\n",
              "          100 :\n",
              "          Math.round((position / fileData.byteLength) * 100);\n",
              "      percent.textContent = `${percentDone}% done`;\n",
              "\n",
              "    } while (position < fileData.byteLength);\n",
              "  }\n",
              "\n",
              "  // All done.\n",
              "  yield {\n",
              "    response: {\n",
              "      action: 'complete',\n",
              "    }\n",
              "  };\n",
              "}\n",
              "\n",
              "scope.google = scope.google || {};\n",
              "scope.google.colab = scope.google.colab || {};\n",
              "scope.google.colab._files = {\n",
              "  _uploadFiles,\n",
              "  _uploadFilesContinue,\n",
              "};\n",
              "})(self);\n",
              "</script> "
            ]
          },
          "metadata": {}
        },
        {
          "output_type": "stream",
          "name": "stdout",
          "text": [
            "Saving data_ventas_video_juegos_1 1.xlsx to data_ventas_video_juegos_1 1.xlsx\n"
          ]
        }
      ],
      "source": [
        "import pandas as pd \n",
        "import matplotlib.pyplot as plt\n",
        "import os\n",
        "\n",
        "from google.colab import files\n",
        "\n",
        "uploaded = files.upload()\n",
        "\n",
        "arc_ex = pd.read_excel('data_ventas_video_juegos_1 1.xlsx')"
      ]
    },
    {
      "cell_type": "code",
      "source": [
        "#CALCULAR VENTAS TOTALES\n",
        "\n",
        "def ven_tot ():\n",
        "  ven_tot=arc_ex['Venta Millones'].sum() \n",
        "  return ven_tot "
      ],
      "metadata": {
        "id": "hfrfws6wbgxu"
      },
      "execution_count": 79,
      "outputs": []
    },
    {
      "cell_type": "code",
      "source": [
        "#CALCULAR VENTAS TOTALES POR AÑO\n",
        "\n",
        "def ven_tot_an ():\n",
        "    a = arc_ex\n",
        "    b = a.groupby('Año').sum('Venta Millones')\n",
        "    print(b)"
      ],
      "metadata": {
        "id": "8sy7oOGLb0lQ"
      },
      "execution_count": 80,
      "outputs": []
    },
    {
      "cell_type": "code",
      "source": [
        "#CALCULAR VENTAS TOTALES POR PLATAFORMA\n",
        "\n",
        "def ven_tot_plat ():\n",
        "  a =arc_ex[['Plataforma', 'Venta Millones']]\n",
        "  b = a.groupby('Plataforma').sum('Venta Millones')\n",
        "  print(b)"
      ],
      "metadata": {
        "id": "iSB-r_Y4cRG5"
      },
      "execution_count": 81,
      "outputs": []
    },
    {
      "cell_type": "code",
      "source": [
        "#RECIBE EL AÑO E IMPRIME LA PLATAFORMA EN LA QUE MÁS SE VENDE\n",
        "\n",
        "def plat_max (i):\n",
        "    a = arc_ex[arc_ex['Año']==i][['Plataforma','Venta Millones']]\n",
        "    b = a.groupby('Plataforma').sum('Venta Millones')\n",
        "    b_max = b['Venta Millones'].max()\n",
        "    print(b[b['Venta Millones']==b_max])"
      ],
      "metadata": {
        "id": "vh8Iyu6acon1"
      },
      "execution_count": 82,
      "outputs": []
    },
    {
      "cell_type": "code",
      "source": [
        "#RECIBE EL JUEGO E IMPRIME VENTAS PPOR CONTINENTE Y POR AÑO\n",
        "\n",
        "def ven_cont_an (j):\n",
        "  a = arc_ex[arc_ex['Nombre']==j][['Región','Venta Millones']]\n",
        "  b = a.groupby('Región').sum('Venta Millones')\n",
        "  print(b)\n",
        "  print()"
      ],
      "metadata": {
        "id": "ClkFB7w0g7Mb"
      },
      "execution_count": 83,
      "outputs": []
    },
    {
      "cell_type": "code",
      "source": [
        "#RECIE EL CONTINENTE E IMPRIME EL JUEGO QUE MÁS SE VENDE \n",
        "\n",
        "def cont_jue_max (r):\n",
        "  a = arc_ex[arc_ex['Región']==r][['Nombre','Venta Millones']]\n",
        "  b = a.groupby('Nombre').sum('Venta Millones')\n",
        "  b_max = b['Venta Millones'].max()\n",
        "  print(b[b['Venta Millones']==b_max])"
      ],
      "metadata": {
        "id": "RbFg-LOcijWr"
      },
      "execution_count": 84,
      "outputs": []
    },
    {
      "cell_type": "code",
      "source": [
        "#GRAFÍCA DONA VENTAS TOTALES POR CONTINENTE\n",
        "\n",
        "def ven_tot_con_graf_don ():\n",
        "  a= arc_ex[['Región','Venta Millones']]\n",
        "  b = a.groupby('Región').sum('Venta Millones')\n",
        "  region=list(a['Región'].unique())\n",
        "  region.sort()\n",
        "  ven = list(b['Venta Millones'])\n",
        "  explode = (0.05, 0.05, 0.05, 0.05)\n",
        "\n",
        "  print(b)\n",
        "  plt.pie(ven , labels=region, explode=explode, autopct=\"%0.1f %%\")\n",
        "  centre_circle = plt.Circle((0, 0), 0.70, fc='white')\n",
        "  fig = plt.gcf()\n",
        "  fig.gca().add_artist(centre_circle)\n",
        "\n",
        "  plt.show"
      ],
      "metadata": {
        "id": "u7BHT4-FjQdD"
      },
      "execution_count": 85,
      "outputs": []
    },
    {
      "cell_type": "code",
      "source": [
        "#GRAFÍCA BARRAS VERTICALES VENTAS TOTALES POR AÑO\n",
        "\n",
        "def ven_tot_an_graf_bar ():\n",
        "    a = arc_ex\n",
        "    b = a.groupby('Año').sum('Venta Millones')\n",
        "    l = list(a['Año'].unique())\n",
        "    l = sorted(l)\n",
        "    lv = list(b['Venta Millones'])\n",
        "    print(b)\n",
        "\n",
        "    plt.bar(l,lv,color='#828')\n",
        "    plt.xlabel('Años ')\n",
        "    plt.ylabel('Venta Millones')\n",
        "    plt.title('Venta en Años')"
      ],
      "metadata": {
        "id": "1-Q0O7c8j8CG"
      },
      "execution_count": 86,
      "outputs": []
    },
    {
      "cell_type": "code",
      "source": [
        "#GRAFÍCA BARRAS HORIZONTALES VENTAS TOTALES POR PLATAFORMA\n",
        "\n",
        "def ven_tot_plat_graf_do ():\n",
        "    a = arc_ex[['Plataforma','Venta Millones']]\n",
        "    b = a.groupby('Plataforma').sum('Venta Millones')\n",
        "    l = list(a['Plataforma'].unique())\n",
        "    lv = list(b['Venta Millones'])\n",
        "    pl=['2600A', 'PS', 'N64', 'PS2', 'DS', '3DS', 'Wii', 'PS3', 'X360', 'PS4', 'WiiU', 'XOne', 'PSP', 'PSV', 'XB', 'PC', 'GBA', 'GC', 'SNES', 'NES', 'SAT', 'GEN', 'DC', 'GB', '3DO', 'TG16', 'NG', 'SCD']\n",
        "    pl.sort()\n",
        "    print(b)\n",
        "\n",
        "    plt.barh(pl,lv,color='#282')\n",
        "    plt.xlabel('Venta Millones', fontsize=20,)\n",
        "    plt.ylabel('Plataforma', fontsize=20,)\n",
        "    plt.title('Venta en Años', loc='left',fontsize=20,)"
      ],
      "metadata": {
        "id": "BOf53l2LkiUf"
      },
      "execution_count": 87,
      "outputs": []
    },
    {
      "cell_type": "code",
      "source": [
        "#GRAFÍCA DONUT CHART VENTAS TOTALES POR GÉNERO\n",
        "\n",
        "def ven_tot_gen_graf_do ():\n",
        "  a = arc_ex[['Genero', 'Venta Millones']]\n",
        "  bin = a.groupby('Genero').sum('Venta Millones')\n",
        "  print(bin)\n",
        "  lg = list(a['Genero'].unique())\n",
        "  lg.sort()\n",
        "  lvm = list(bin['Venta Millones'])\n",
        "  explode = (0.05, 0.05, 0.05, 0.05, 0.05)\n",
        "  \n",
        "  plt.pie(lvm , labels=lg, explode=explode, autopct=\"%0.1f %%\")\n",
        "  centre_circle = plt.Circle((0, 0), 0.70, fc='white')\n",
        "  fig = plt.gcf()\n",
        "  fig.gca().add_artist(centre_circle)\n",
        "\n",
        "  plt.show"
      ],
      "metadata": {
        "id": "tGPU9qM-k-io"
      },
      "execution_count": 88,
      "outputs": []
    },
    {
      "cell_type": "code",
      "source": [
        "#GRAFÍCA PIE CHART VENTAS POR CONTINENTE\n",
        "\n",
        "def ven_con_graf_pie ():\n",
        "  a = arc_ex[['Región','Venta Millones']]\n",
        "  b = a.groupby('Región').sum('Venta Millones')\n",
        "  lr = list(a['Región'].unique())\n",
        "  lr.sort()\n",
        "  lvm = list(b['Venta Millones'])\n",
        "  explode = (0.05, 0.05, 0.05, 0.05)\n",
        "  \n",
        "  plt.pie(lvm , labels=lr, explode=explode, autopct=\"%0.1f %%\")\n",
        "  print(b)"
      ],
      "metadata": {
        "id": "PgiqW5e1l1mp"
      },
      "execution_count": 89,
      "outputs": []
    },
    {
      "cell_type": "code",
      "source": [
        "#MENÚ\n",
        "\n",
        "def menu():\n",
        "\n",
        "  #Función que limpia la pantalla y muestra nuevamente el menu\n",
        "\n",
        "  os.system('clear') #NOTA: En caso de estar en dispositivos mac, el comando es \"cls\"\n",
        "  print (\"Selecciona una opción\")\n",
        "  print (\"\\t1 - Calcular ventas totales\")\n",
        "  print (\"\\t2 - Calcular ventas totales por año\")\n",
        "  print (\"\\t3 - Calcular ventas totales por plataforma\")\n",
        "  print (\"\\t4 - Calcular ventas totales por plataforma\")\n",
        "  print (\"\\t5 - Calcular ventas de juego por región\")\n",
        "  print (\"\\t6 - Calcular el juego más vendido según la región\")\n",
        "  print (\"\\t7 - Graficar ventas totales por región\")\n",
        "  print (\"\\t8 - Graficar ventas totales por año \")\n",
        "  print (\"\\t9 - Graficar ventas totales por plataforma\")\n",
        "  print (\"\\t10 - Graficar ventas por género de juego\")\n",
        "  print (\"\\t11 - Graficar ventas por región\")\n",
        "  print (\"\\t12 - Terminar programa\")\n",
        "\n",
        "\n",
        "menu()\n",
        "men_op = input(\"Inserta un número valor >> \")\n",
        "\n",
        "if men_op==\"1\":\n",
        "    print(\"\")\n",
        "    print(\"Has pulsado la opción 1...\")\n",
        "    print(ven_tot())\n",
        "elif men_op==\"2\":\n",
        "    print(\"\")\n",
        "    print(\"Has pulsado la opción 2...\")\n",
        "    print(ven_tot_an())\n",
        "elif men_op==\"3\":\n",
        "\n",
        "    print(\"\")\n",
        "    print(\"Has pulsado la opción 3...\")\n",
        "    print(ven_tot_plat())\n",
        "\n",
        "elif men_op==\"4\":\n",
        "\n",
        "    print(\"\")\n",
        "    print(\"Has pulsado la opción 4...\")\n",
        "    i=int(input('Ingresar año: '))\n",
        "    print(plat_max(i))\n",
        "\n",
        "elif men_op==\"5\":\n",
        "\n",
        "    print(\"\")\n",
        "    print(\"Has pulsado la opción 5...\")\n",
        "    j=str(input('Ingresar nombre del juego: '))\n",
        "    ven_cont_an(j)\n",
        "\n",
        "elif men_op==\"6\":\n",
        "\n",
        "    print(\"\")\n",
        "    print(\"Has pulsado la opción 6...\")\n",
        "    r=str(input('Ingresar región: '))\n",
        "    cont_jue_max(r)\n",
        "\n",
        "elif men_op==\"7\":\n",
        "    print(\"\")\n",
        "    print(\"Has pulsado la opción 7...\")\n",
        "    print(ven_tot_con_graf_don())\n",
        "\n",
        "elif men_op==\"8\":\n",
        "\n",
        "    print(\"\")\n",
        "    print(\"Has pulsado la opción 8...\")\n",
        "    print(ven_tot_an_graf_bar())\n",
        "\n",
        "elif men_op==\"9\":\n",
        "\n",
        "    print(\"\")\n",
        "    print(\"Has pulsado la opción 9...\")\n",
        "    print(ven_tot_plat_graf_do())\n",
        "\n",
        "elif men_op==\"10\":\n",
        "\n",
        "    print(\"\")\n",
        "    print(\"Has pulsado la opción 10...\")\n",
        "    print(ven_tot_gen_graf_do())\n",
        "\n",
        "elif men_op==\"11\":\n",
        "\n",
        "    print(\"\")\n",
        "    print(\"Has pulsado la opción 11...\")\n",
        "    print(ven_con_graf_pie())\n",
        "elif men_op==\"12\":\n",
        "    print('FIN')\n"
      ],
      "metadata": {
        "colab": {
          "base_uri": "https://localhost:8080/",
          "height": 664
        },
        "id": "Gz2deSQzmIzj",
        "outputId": "a0b57878-0cdc-46cc-8fae-0313db0ca23e"
      },
      "execution_count": 90,
      "outputs": [
        {
          "output_type": "stream",
          "name": "stdout",
          "text": [
            "Selecciona una opción\n",
            "\t1 - Calcular ventas totales\n",
            "\t2 - Calcular ventas totales por año\n",
            "\t3 - Calcular ventas totales por plataforma\n",
            "\t4 - Calcular ventas totales por plataforma\n",
            "\t5 - Calcular ventas de juego por región\n",
            "\t6 - Calcular el juego más vendido según la región\n",
            "\t7 - Graficar ventas totales por región\n",
            "\t8 - Graficar ventas totales por año \n",
            "\t9 - Graficar ventas totales por plataforma\n",
            "\t10 - Graficar ventas por género de juego\n",
            "\t11 - Graficar ventas por región\n",
            "\t12 - Terminar programa\n",
            "Inserta un número valor >> 10\n",
            "\n",
            "Has pulsado la opción 10...\n",
            "           Venta Millones\n",
            "Genero                   \n",
            "Action            1721.86\n",
            "Adventure          234.56\n",
            "Fighting           444.08\n",
            "Misc               796.99\n",
            "Platform           226.93\n",
            "None\n"
          ]
        },
        {
          "output_type": "display_data",
          "data": {
            "text/plain": [
              "<Figure size 432x288 with 1 Axes>"
            ],
            "image/png": "[encoded data removed]"
          },
          "metadata": {}
        }
      ]
    }
  ]
}